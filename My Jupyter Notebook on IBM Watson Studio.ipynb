{
 "cells": [
  {
   "cell_type": "markdown",
   "metadata": {},
   "source": [
    "<center>\n",
    "    <img src=\"https://cf-courses-data.s3.us.cloud-object-storage.appdomain.cloud/IBMDeveloperSkillsNetwork-DS0105EN-SkillsNetwork/labs/Module2/images/SN_web_lightmode.png\" width=\"300\" alt=\"cognitiveclass.ai logo\"  />\n",
    "</center>\n"
   ]
  },
  {
   "cell_type": "markdown",
   "metadata": {},
   "source": [
    "# Header 1 My Jupyter Notebook on IBM Watson Studio"
   ]
  },
  {
   "cell_type": "markdown",
   "metadata": {},
   "source": [
    "**Patricia Pizzica**  \n",
    "Future Data Scientist"
   ]
  },
  {
   "cell_type": "markdown",
   "metadata": {},
   "source": [
    "*I am interested in data science because I love patterns. Being able to organize data and find patterns is a fantastic way to help understand the world around me and is extremely fascinating.*"
   ]
  },
  {
   "cell_type": "markdown",
   "metadata": {},
   "source": [
    "### The following code will print the answer to a basic math equation."
   ]
  },
  {
   "cell_type": "code",
   "execution_count": 2,
   "metadata": {},
   "outputs": [
    {
     "name": "stdout",
     "output_type": "stream",
     "text": [
      "X equals three. That means X plus 5 equals 8\n"
     ]
    }
   ],
   "source": [
    "x=3\n",
    "print(\"X equals three. That means X plus 5 equals\", x+5)"
   ]
  },
  {
   "cell_type": "markdown",
   "metadata": {},
   "source": [
    "#### List of my favorite TV shows.\n",
    "1. Our Flag Means Death\n",
    "2. What We Do in the Shadows\n",
    "3. Bobs Burgers\n",
    "4. The Office\n",
    "5. Parks and Rec\n",
    "6. It's Always Sunny in Philadelphia\n",
    "\n",
    "#### Now I will compare each of these TV shows and see what type of show I prefer.\n",
    "\n",
    "| TV Show | Type of show |\n",
    "| ------- | ------------ |\n",
    "| Our Flag Means Death | Live action |\n",
    "| What We Do in the Shadows | Live action |\n",
    "| Bob's Burgers | ~~Adult~~ (It barely counts as adult) animation |\n",
    "| The Office | Live action |\n",
    "| Parks and Rec | Live acti"
   ]
  },
  {
   "cell_type": "code",
   "execution_count": null,
   "metadata": {},
   "outputs": [],
   "source": []
  }
 ],
 "metadata": {
  "kernelspec": {
   "display_name": "Python",
   "language": "python",
   "name": "conda-env-python-py"
  },
  "language_info": {
   "codemirror_mode": {
    "name": "ipython",
    "version": 3
   },
   "file_extension": ".py",
   "mimetype": "text/x-python",
   "name": "python",
   "nbconvert_exporter": "python",
   "pygments_lexer": "ipython3",
   "version": "3.7.12"
  }
 },
 "nbformat": 4,
 "nbformat_minor": 4
}
